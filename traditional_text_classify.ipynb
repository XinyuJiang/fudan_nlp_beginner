{
 "cells": [
  {
   "cell_type": "code",
   "execution_count": 1,
   "metadata": {},
   "outputs": [],
   "source": [
    "import sklearn\n",
    "import pandas as pd\n",
    "import numpy as np\n",
    "from sklearn import metrics\n",
    "import nltk\n",
    "from nltk.tokenize import word_tokenize"
   ]
  },
  {
   "cell_type": "code",
   "execution_count": 3,
   "metadata": {},
   "outputs": [],
   "source": [
    "train_file = \"./sentiment-analysis-on-movie-reviews/train.tsv\"\n",
    "test_file = \"./sentiment-analysis-on-movie-reviews/test.tsv\"\n",
    "train = pd.read_csv(train_file,sep = '\\t')\n",
    "test = pd.read_csv(test_file, sep = '\\t')"
   ]
  },
  {
   "cell_type": "code",
   "execution_count": 4,
   "metadata": {},
   "outputs": [],
   "source": [
    "from sklearn.feature_extraction.text import CountVectorizer, TfidfVectorizer\n",
    "from sklearn.model_selection import KFold\n",
    "from sklearn.model_selection import train_test_split"
   ]
  },
  {
   "cell_type": "code",
   "execution_count": 5,
   "metadata": {},
   "outputs": [],
   "source": [
    "#tf-idf中的idf是逆文档频率（inverse document frequency），idf = log(总文档数/包含有该词的文档数+1)，对热门的词起到一个惩罚作用；越热门idf值越小，tf*idf后的结果也就越小      \n",
    "count_vec = CountVectorizer(ngram_range=(1,3), analyzer='word', stop_words='english', min_df=0.001)#提取特征向量,包括ngram1,2,3\n",
    "tfidf_vec = TfidfVectorizer(ngram_range=(1,3), analyzer='word', stop_words='english', min_df=0.001)#提取特征向量\n",
    "train['Phrase'] = train['Phrase'].str.lower()#先变成小写字母\n",
    "train['tokenize'] = train.apply(lambda x: nltk.word_tokenize(x['Phrase']),axis=1)#分词，为下一步提词干作准备"
   ]
  },
  {
   "cell_type": "code",
   "execution_count": 6,
   "metadata": {},
   "outputs": [],
   "source": [
    "#nltk.download('punkt')\n",
    "from nltk.stem.snowball import SnowballStemmer\n",
    "stemmer = SnowballStemmer(\"english\")#英文停用词有内置的\n",
    "train['tokenize'] = train['tokenize'].apply(lambda x: [stemmer.stem(y) for y in x])#提词干，相当于一个降噪\n",
    "train['tokenize'] = train['tokenize'].apply(lambda x: ' '.join(x))"
   ]
  },
  {
   "cell_type": "code",
   "execution_count": 7,
   "metadata": {},
   "outputs": [],
   "source": [
    "x = train.tokenize\n",
    "y = train.Sentiment\n",
    "x_train,x_test,y_train,y_test = train_test_split(x,y,test_size=0.2,random_state=1)"
   ]
  },
  {
   "cell_type": "code",
   "execution_count": 8,
   "metadata": {},
   "outputs": [],
   "source": [
    "train_feature = count_vec.fit_transform(x_train)#124848x749\n",
    "test_feature = count_vec.transform(x_test)#这里不是fit_transform,而是transform;这里得到的是词在文本中的出现频率的稀疏矩阵，例如test_feature就是一个31212x749的矩阵，31212是总文本长度，749是特征数\n",
    "#train_feature = tfidf_vec.fit_transform(x_train)\n",
    "#test_feature = tfidf_vec.transform(x_test)"
   ]
  },
  {
   "cell_type": "code",
   "execution_count": 9,
   "metadata": {},
   "outputs": [],
   "source": [
    "#词汇表\n",
    "# print('\\nvocabulary list:\\n\\n',count_vec.get_feature_names())\n",
    "# print( '\\nvocabulary dic :\\n\\n',count_vec.vocabulary_)#{word:id}\n",
    "# print ('vocabulary:\\n\\n')\n",
    "# for key,value in count_vec.vocabulary_.items():\n",
    "#     print(key,value)\n",
    "# print('\\nvocabulary list:\\n\\n',tfidf_vec.get_feature_names())\n",
    "# print( '\\nvocabulary dic :\\n\\n',tfidf_vec.vocabulary_)\n",
    "# print ('vocabulary:\\n\\n')\n",
    "# for key,value in tfidf_vec.vocabulary_.items():\n",
    "#     print(key,value)"
   ]
  },
  {
   "cell_type": "code",
   "execution_count": 11,
   "metadata": {},
   "outputs": [],
   "source": [
    "#print(train_feature.toarray()[2])\n",
    "#print(len(count_vec.get_feature_names()))"
   ]
  },
  {
   "cell_type": "code",
   "execution_count": 11,
   "metadata": {},
   "outputs": [
    {
     "name": "stdout",
     "output_type": "stream",
     "text": [
      "NB: 0.5689798795335127\n"
     ]
    },
    {
     "name": "stderr",
     "output_type": "stream",
     "text": [
      "/Users/xinyujiang/anaconda3/lib/python3.7/site-packages/sklearn/svm/base.py:196: FutureWarning: The default value of gamma will change from 'auto' to 'scale' in version 0.22 to account better for unscaled features. Set gamma explicitly to 'auto' or 'scale' to avoid this warning.\n",
      "  \"avoid this warning.\", FutureWarning)\n"
     ]
    },
    {
     "name": "stdout",
     "output_type": "stream",
     "text": [
      "SVM: 0.5689798795335127\n",
      "RF: 0.6146674356016917\n"
     ]
    }
   ],
   "source": [
    "#print(\"Number of features:\",count_vec.get_feature_names())\n",
    "#朴素贝叶斯\n",
    "from sklearn.naive_bayes import MultinomialNB\n",
    "nb = MultinomialNB()\n",
    "nb.fit(train_feature, y_train)\n",
    "y_pred = nb.predict(test_feature)\n",
    "print('NB:', metrics.accuracy_score(y_test, y_pred))\n",
    "#SVM\n",
    "from sklearn.linear_model import SGDClassifier\n",
    "from sklearn.svm import SVC\n",
    "\n",
    "#SVM = SGDClassifier(loss='hinge')#SGD用minibatch做梯度下降\n",
    "SVM = SVC(kernel='rbf', class_weight='balanced')#Radial Based Function\n",
    "SVM.fit(train_feature, y_train)\n",
    "y_pred_class = SVM.predict(test_feature)\n",
    "print('SVM:', metrics.accuracy_score(y_test, y_pred))\n",
    "#随机森林\n",
    "from sklearn.ensemble import RandomForestClassifier\n",
    "rfc = RandomForestClassifier(n_estimators = 20)\n",
    "rfc.fit(train_feature, y_train)\n",
    "y_pred = rfc.predict(test_feature)\n",
    "print('RF:',metrics.accuracy_score(y_test, y_pred))\n",
    "#这里用tfidf的结果反而不如直接用词频"
   ]
  },
  {
   "cell_type": "code",
   "execution_count": 67,
   "metadata": {},
   "outputs": [
    {
     "name": "stderr",
     "output_type": "stream",
     "text": [
      "/Users/xinyujiang/anaconda3/lib/python3.7/site-packages/sklearn/ensemble/forest.py:246: FutureWarning: The default value of n_estimators will change from 10 in version 0.20 to 100 in 0.22.\n",
      "  \"10 in version 0.20 to 100 in 0.22.\", FutureWarning)\n"
     ]
    },
    {
     "name": "stdout",
     "output_type": "stream",
     "text": [
      "RF: 0.6124567474048442\n"
     ]
    }
   ],
   "source": []
  },
  {
   "cell_type": "code",
   "execution_count": null,
   "metadata": {},
   "outputs": [],
   "source": []
  }
 ],
 "metadata": {
  "kernelspec": {
   "display_name": "Python 3",
   "language": "python",
   "name": "python3"
  },
  "language_info": {
   "codemirror_mode": {
    "name": "ipython",
    "version": 3
   },
   "file_extension": ".py",
   "mimetype": "text/x-python",
   "name": "python",
   "nbconvert_exporter": "python",
   "pygments_lexer": "ipython3",
   "version": "3.7.1"
  }
 },
 "nbformat": 4,
 "nbformat_minor": 2
}
