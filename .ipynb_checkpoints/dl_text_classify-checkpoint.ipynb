{
 "cells": [
  {
   "cell_type": "code",
   "execution_count": 1,
   "metadata": {},
   "outputs": [
    {
     "name": "stderr",
     "output_type": "stream",
     "text": [
      "Using TensorFlow backend.\n"
     ]
    }
   ],
   "source": [
    "import keras\n",
    "import numpy as np\n",
    "import pandas as pd\n",
    "import nltk\n",
    "from nltk.tokenize import word_tokenize"
   ]
  },
  {
   "cell_type": "code",
   "execution_count": 63,
   "metadata": {},
   "outputs": [],
   "source": [
    "train_file = '../task1/sentiment-analysis-on-movie-reviews/train.tsv'\n",
    "test_file = '../task1/sentiment-analysis-on-movie-reviews/test.tsv'\n",
    "train = pd.read_csv(train_file, sep = '\\t')\n",
    "test = pd.read_csv(test_file, sep = '\\t')\n",
    "train['Phrase'] = train['Phrase'].str.lower()#先变成小写字母\n",
    "train['tokenize'] = train.apply(lambda x: nltk.word_tokenize(x['Phrase']),axis=1)#分词，为下一步提词干作准备\n",
    "from nltk.stem.snowball import SnowballStemmer\n",
    "stemmer = SnowballStemmer(\"english\")#英文停用词有内置的\n",
    "train['tokenize'] = train['tokenize'].apply(lambda x: [stemmer.stem(y) for y in x])#提词干，相当于一个降噪\n",
    "train['tokenize'] = train['tokenize'].apply(lambda x: ' '.join(x))\n",
    "\n",
    "test['Phrase'] = test['Phrase'].str.lower()#先变成小写字母\n",
    "test['tokenize'] = test.apply(lambda x: nltk.word_tokenize(x['Phrase']),axis=1)#分词，为下一步提词干作准备\n",
    "test['tokenize'] = test['tokenize'].apply(lambda x: [stemmer.stem(y) for y in x])#提词干，相当于一个降噪\n",
    "test['tokenize'] = test['tokenize'].apply(lambda x: ' '.join(x))"
   ]
  },
  {
   "cell_type": "code",
   "execution_count": 74,
   "metadata": {},
   "outputs": [
    {
     "name": "stdout",
     "output_type": "stream",
     "text": [
      "80%句子长度小于： 11\n",
      "词表总数： 11872\n"
     ]
    }
   ],
   "source": [
    "from keras.layers import Input, Conv1D, Dense, Embedding, MaxPooling1D,Flatten, LSTM\n",
    "from keras.models import Model\n",
    "lenlist = []\n",
    "wordset = set()\n",
    "for i in train.tokenize:\n",
    "    i = i.split()\n",
    "    lenlist.append(len(i))\n",
    "    for j in i:\n",
    "        wordset.add(j)\n",
    "lenlist.sort()\n",
    "print(\"80%句子长度小于：\",lenlist[int(0.8*len(lenlist))])\n",
    "print(\"词表总数：\",len(wordset))"
   ]
  },
  {
   "cell_type": "code",
   "execution_count": 37,
   "metadata": {},
   "outputs": [],
   "source": [
    "vocab_size = len(wordset)\n",
    "sen_len = lenlist[int(0.8*len(lenlist))]\n",
    "embedding_size = 256"
   ]
  },
  {
   "cell_type": "code",
   "execution_count": 72,
   "metadata": {},
   "outputs": [
    {
     "name": "stdout",
     "output_type": "stream",
     "text": [
      "_________________________________________________________________\n",
      "Layer (type)                 Output Shape              Param #   \n",
      "=================================================================\n",
      "input_10 (InputLayer)        (None, 11)                0         \n",
      "_________________________________________________________________\n",
      "embedding_8 (Embedding)      (None, 11, 256)           3039232   \n",
      "_________________________________________________________________\n",
      "conv1d_19 (Conv1D)           (None, 11, 10)            7690      \n",
      "_________________________________________________________________\n",
      "max_pooling1d_12 (MaxPooling (None, 5, 10)             0         \n",
      "_________________________________________________________________\n",
      "conv1d_20 (Conv1D)           (None, 5, 10)             310       \n",
      "_________________________________________________________________\n",
      "max_pooling1d_13 (MaxPooling (None, 2, 10)             0         \n",
      "_________________________________________________________________\n",
      "conv1d_21 (Conv1D)           (None, 2, 10)             310       \n",
      "_________________________________________________________________\n",
      "max_pooling1d_14 (MaxPooling (None, 1, 10)             0         \n",
      "_________________________________________________________________\n",
      "flatten_4 (Flatten)          (None, 10)                0         \n",
      "_________________________________________________________________\n",
      "dense_7 (Dense)              (None, 128)               1408      \n",
      "_________________________________________________________________\n",
      "dense_8 (Dense)              (None, 5)                 645       \n",
      "=================================================================\n",
      "Total params: 3,049,595\n",
      "Trainable params: 3,049,595\n",
      "Non-trainable params: 0\n",
      "_________________________________________________________________\n"
     ]
    }
   ],
   "source": [
    "################################CNN Model##############################################\n",
    "inputs = Input(shape=(sen_len,), dtype='int32')\n",
    "inputs_embedding = Embedding(vocab_size, embedding_size, input_length = sen_len)(inputs)\n",
    "conv1 = Conv1D(10,3,strides = 1, padding = 'same', activation='relu')(inputs_embedding)#10个卷积核，一个核的尺寸是3x256（这个256是不需要输入的，1D实际上的含义是控制一维，相当于ngram维）,步长为1，因此输出结果是10x11\n",
    "pooling1 = MaxPooling1D(2)(conv1)\n",
    "conv2 = Conv1D(10,3,strides = 1, padding = 'same', activation='relu')(pooling1)\n",
    "pooling2 = MaxPooling1D(2)(conv2)\n",
    "conv3 = Conv1D(10,3,strides = 1, padding = 'same', activation='relu')(pooling2)\n",
    "pooling3 = MaxPooling1D(2)(conv3)\n",
    "flat = Flatten()(pooling3)\n",
    "dense = Dense(128, activation='relu')(flat)\n",
    "preds = Dense(5, activation='sigmoid')(dense)\n",
    "model = Model(inputs,preds)\n",
    "model.compile(optimizer='adam',\n",
    "              loss='sparse_categorical_crossentropy',#这里用sparse_categorical就不用再对输出的格式做onehot,\n",
    "              metrics=['acc'])\n",
    "model.summary()"
   ]
  },
  {
   "cell_type": "code",
   "execution_count": 76,
   "metadata": {},
   "outputs": [
    {
     "name": "stdout",
     "output_type": "stream",
     "text": [
      "WARNING:tensorflow:From /Users/xinyujiang/anaconda3/lib/python3.7/site-packages/keras/backend/tensorflow_backend.py:3363: calling dropout (from tensorflow.python.ops.nn_ops) with keep_prob is deprecated and will be removed in a future version.\n",
      "Instructions for updating:\n",
      "Please use `rate` instead of `keep_prob`. Rate should be set to `rate = 1 - keep_prob`.\n",
      "_________________________________________________________________\n",
      "Layer (type)                 Output Shape              Param #   \n",
      "=================================================================\n",
      "input_12 (InputLayer)        (None, 11)                0         \n",
      "_________________________________________________________________\n",
      "embedding_10 (Embedding)     (None, 11, 256)           3039232   \n",
      "_________________________________________________________________\n",
      "lstm_2 (LSTM)                (None, 128)               197120    \n",
      "_________________________________________________________________\n",
      "dense_10 (Dense)             (None, 5)                 645       \n",
      "=================================================================\n",
      "Total params: 3,236,997\n",
      "Trainable params: 3,236,997\n",
      "Non-trainable params: 0\n",
      "_________________________________________________________________\n"
     ]
    }
   ],
   "source": [
    "################################LSTM Model##############################################\n",
    "inputs = Input(shape=(sen_len,), dtype='int32')\n",
    "inputs_embedding = Embedding(vocab_size, embedding_size, input_length = sen_len)(inputs)#这里是随机embedding的方式初始化，也可以先用gensim训练一个词向量作为weight初始化；或者用glove之类的别人训练好的词向量初始化\n",
    "lstm = LSTM(units=128, dropout=0.2, recurrent_dropout=0.2)(inputs_embedding)#lstm如果想实现变长，要用mask\n",
    "preds = Dense(5, activation='softmax')(lstm)\n",
    "lstm_model = Model(inputs,preds)\n",
    "lstm_model.compile(optimizer='adam',\n",
    "              loss='sparse_categorical_crossentropy',#这里用sparse_categorical就不用再对输出的格式做onehot,\n",
    "              metrics=['acc'])\n",
    "lstm_model.summary()"
   ]
  },
  {
   "cell_type": "code",
   "execution_count": 64,
   "metadata": {},
   "outputs": [],
   "source": [
    "#处理输入格式\n",
    "from keras.preprocessing.text import Tokenizer\n",
    "from keras.preprocessing.sequence import pad_sequences\n",
    "xtrain = train.tokenize\n",
    "ytrain = train.Sentiment\n",
    "xtest = test.tokenize"
   ]
  },
  {
   "cell_type": "code",
   "execution_count": 66,
   "metadata": {},
   "outputs": [],
   "source": [
    "tk = Tokenizer()\n",
    "tk.fit_on_texts(xtrain.values)\n",
    "x_train = tk.texts_to_sequences(xtrain)\n",
    "x_test = tk.texts_to_sequences(xtest)\n",
    "x_train = pad_sequences(x_train, sen_len)\n",
    "x_test = pad_sequences(x_test, sen_len)"
   ]
  },
  {
   "cell_type": "code",
   "execution_count": 73,
   "metadata": {},
   "outputs": [
    {
     "name": "stdout",
     "output_type": "stream",
     "text": [
      "WARNING:tensorflow:From /Users/xinyujiang/anaconda3/lib/python3.7/site-packages/tensorflow/python/ops/math_ops.py:3066: to_int32 (from tensorflow.python.ops.math_ops) is deprecated and will be removed in a future version.\n",
      "Instructions for updating:\n",
      "Use tf.cast instead.\n",
      "Epoch 1/7\n",
      "156060/156060 [==============================] - 26s 163us/step - loss: 1.0806 - acc: 0.5687\n",
      "Epoch 2/7\n",
      "156060/156060 [==============================] - 25s 161us/step - loss: 0.8365 - acc: 0.6516\n",
      "Epoch 3/7\n",
      "156060/156060 [==============================] - 25s 160us/step - loss: 0.7647 - acc: 0.6770\n",
      "Epoch 4/7\n",
      "156060/156060 [==============================] - 24s 153us/step - loss: 0.7217 - acc: 0.6950\n",
      "Epoch 5/7\n",
      "156060/156060 [==============================] - 24s 156us/step - loss: 0.6894 - acc: 0.7082\n",
      "Epoch 6/7\n",
      "156060/156060 [==============================] - 23s 149us/step - loss: 0.6651 - acc: 0.7173\n",
      "Epoch 7/7\n",
      "156060/156060 [==============================] - 24s 152us/step - loss: 0.6433 - acc: 0.7263\n"
     ]
    },
    {
     "data": {
      "text/plain": [
       "<keras.callbacks.History at 0x1a4d522080>"
      ]
     },
     "execution_count": 73,
     "metadata": {},
     "output_type": "execute_result"
    }
   ],
   "source": [
    "model.fit(x_train, ytrain, batch_size=128, epochs=7, verbose=1)"
   ]
  },
  {
   "cell_type": "code",
   "execution_count": 77,
   "metadata": {},
   "outputs": [
    {
     "name": "stdout",
     "output_type": "stream",
     "text": [
      "Epoch 1/7\n",
      "156060/156060 [==============================] - 67s 432us/step - loss: 0.9549 - acc: 0.6111\n",
      "Epoch 2/7\n",
      "156060/156060 [==============================] - 66s 424us/step - loss: 0.7920 - acc: 0.6703\n",
      "Epoch 3/7\n",
      "156060/156060 [==============================] - 65s 415us/step - loss: 0.7286 - acc: 0.6929\n",
      "Epoch 4/7\n",
      "156060/156060 [==============================] - 65s 416us/step - loss: 0.6871 - acc: 0.7080\n",
      "Epoch 5/7\n",
      "156060/156060 [==============================] - 66s 421us/step - loss: 0.6553 - acc: 0.7201\n",
      "Epoch 6/7\n",
      "156060/156060 [==============================] - 514s 3ms/step - loss: 0.6288 - acc: 0.7288\n",
      "Epoch 7/7\n",
      "156060/156060 [==============================] - 68s 438us/step - loss: 0.6059 - acc: 0.7367\n"
     ]
    },
    {
     "data": {
      "text/plain": [
       "<keras.callbacks.History at 0x1a4e16f0b8>"
      ]
     },
     "execution_count": 77,
     "metadata": {},
     "output_type": "execute_result"
    }
   ],
   "source": [
    "lstm_model.fit(x_train, ytrain, batch_size=128, epochs=7, verbose=1)"
   ]
  },
  {
   "cell_type": "code",
   "execution_count": null,
   "metadata": {},
   "outputs": [],
   "source": []
  }
 ],
 "metadata": {
  "kernelspec": {
   "display_name": "Python 3",
   "language": "python",
   "name": "python3"
  },
  "language_info": {
   "codemirror_mode": {
    "name": "ipython",
    "version": 3
   },
   "file_extension": ".py",
   "mimetype": "text/x-python",
   "name": "python",
   "nbconvert_exporter": "python",
   "pygments_lexer": "ipython3",
   "version": "3.7.1"
  }
 },
 "nbformat": 4,
 "nbformat_minor": 2
}
